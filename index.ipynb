{
 "cells": [
  {
   "cell_type": "markdown",
   "metadata": {},
   "source": [
    "# NoSQL Databases - Quiz\n",
    "\n",
    "\n",
    "## Introduction\n",
    "\n",
    "In this lesson, you'll answer some common open-ended interview questions about NoSQL databases.\n",
    "\n",
    "\n",
    "## Question 1\n",
    "\n",
    "What is the difference between a NoSQL and a SQL database?  Which is better?\n",
    "\n",
    "Write your answer below this line: \n",
    "_______________________________________________________________________________________________________________________________\n",
    "\n",
    "\n",
    "\n",
    "\n",
    "\n",
    "\n",
    "\n",
    "## Question 2\n",
    "\n",
    "Describe a situation where a NoSQL database might be a better choice than a relational database, and explain your reasoning.\n",
    "\n",
    "Write your answer below this line: \n",
    "_______________________________________________________________________________________________________________________________\n",
    "\n",
    "\n",
    "\n",
    "\n",
    "\n",
    "\n",
    "## Question 3\n",
    "\n",
    "How does MongoDB work? How is it different from a relational database?\n",
    "\n",
    "Write your answer below this line: \n",
    "_______________________________________________________________________________________________________________________________\n",
    "\n",
    "\n",
    "\n",
    "\n",
    "\n",
    "\n",
    "\n",
    "\n",
    "## Question 4\n",
    "\n",
    "What is fault tolerance, and what does it have to do with Resilient Distributed Datasets?\n",
    "\n",
    "Write your answer below this line: \n",
    "_______________________________________________________________________________________________________________________________\n",
    "\n",
    "\n",
    "\n",
    "\n",
    "\n",
    "\n",
    "\n",
    "\n",
    "## Question 5\n",
    "\n",
    "What is MapReduce? How is it related to Hadoop?\n",
    "\n",
    "Write your answer below this line: \n",
    "_______________________________________________________________________________________________________________________________\n",
    "\n",
    "\n",
    "\n",
    "\n",
    "## Summary\n",
    "\n",
    "\n",
    "In this lesson, we reviewed some common NoSQL interview questions. "
   ]
  },
  {
   "cell_type": "markdown",
   "metadata": {},
   "source": [
    "1. SQL databases are relational and the data is more regular in that it can be neatly fitted into tables. NoSQL databases allow for more variable data types that may not fit so neatly within traditional relational tables. NoSQL databases can also be used for more special circumstances like creating schemas of social media data, or handling data for truly big data. "
   ]
  },
  {
   "cell_type": "markdown",
   "metadata": {},
   "source": [
    "2. If a company wanted to be able to save chats or email threads then you would not be able to put this neatly into tables. You could use a NoSQL database to better store and access this data."
   ]
  },
  {
   "cell_type": "markdown",
   "metadata": {},
   "source": [
    "3. MongoDB works by storing data as a dictionary. Each item has a key and the data is stored as a value. It is different from relational datasets because the data can be freeform. "
   ]
  },
  {
   "cell_type": "markdown",
   "metadata": {},
   "source": [
    "4. Fault tolerance is making sure that when you make data queries, that all the data is coming back. Many companies have huge amounts of data stored on many servers. If each server were the only one in charge of a certain piece of data, then if servers were down there would be no way to know that not all data came back in the query. Resilient Distributed Datasets prevent this from happening by having overlap with the servers being backups for each other. "
   ]
  },
  {
   "cell_type": "markdown",
   "metadata": {},
   "source": [
    "5. MapReduce is the process of sending a query out to many smaller servers that then send information back and it all gets combined together. It is much faster to have each server be able to run at the same time and query over a smaller amount of data. Hadoop uses MapReduce."
   ]
  }
 ],
 "metadata": {
  "kernelspec": {
   "display_name": "learn-env",
   "language": "python",
   "name": "learn-env"
  },
  "language_info": {
   "codemirror_mode": {
    "name": "ipython",
    "version": 3
   },
   "file_extension": ".py",
   "mimetype": "text/x-python",
   "name": "python",
   "nbconvert_exporter": "python",
   "pygments_lexer": "ipython3",
   "version": "3.6.9"
  },
  "toc": {
   "base_numbering": 1,
   "nav_menu": {},
   "number_sections": true,
   "sideBar": true,
   "skip_h1_title": false,
   "title_cell": "Table of Contents",
   "title_sidebar": "Contents",
   "toc_cell": false,
   "toc_position": {},
   "toc_section_display": true,
   "toc_window_display": false
  },
  "varInspector": {
   "cols": {
    "lenName": 16,
    "lenType": 16,
    "lenVar": 40
   },
   "kernels_config": {
    "python": {
     "delete_cmd_postfix": "",
     "delete_cmd_prefix": "del ",
     "library": "var_list.py",
     "varRefreshCmd": "print(var_dic_list())"
    },
    "r": {
     "delete_cmd_postfix": ") ",
     "delete_cmd_prefix": "rm(",
     "library": "var_list.r",
     "varRefreshCmd": "cat(var_dic_list()) "
    }
   },
   "types_to_exclude": [
    "module",
    "function",
    "builtin_function_or_method",
    "instance",
    "_Feature"
   ],
   "window_display": true
  }
 },
 "nbformat": 4,
 "nbformat_minor": 2
}
